{
 "cells": [
  {
   "cell_type": "code",
   "execution_count": 1,
   "metadata": {
    "ExecuteTime": {
     "end_time": "2020-08-23T05:56:42.754844Z",
     "start_time": "2020-08-23T05:56:42.746485Z"
    }
   },
   "outputs": [
    {
     "name": "stderr",
     "output_type": "stream",
     "text": [
      "/home/r7user1/anaconda2_local/envs/tf2/lib/python3.6/site-packages/statsmodels/tools/_testing.py:19: FutureWarning: pandas.util.testing is deprecated. Use the functions in the public API at pandas.testing instead.\n",
      "  import pandas.util.testing as tm\n"
     ]
    }
   ],
   "source": [
    "import numpy as np\n",
    "import xgboost as xgb\n",
    "from sklearn import svm\n",
    "from sklearn import datasets\n",
    "from sklearn.cluster import KMeans\n",
    "from matplotlib import pylab as plt\n",
    "from sklearn.model_selection import KFold \n",
    "from sklearn.preprocessing import MinMaxScaler\n",
    "from sklearn.model_selection import cross_val_score\n",
    "from sklearn.metrics import make_scorer, accuracy_score, mean_squared_error\n",
    "from sequd import SeqUD, GPEIOPT, SMACOPT, TPEOPT"
   ]
  },
  {
   "cell_type": "code",
   "execution_count": 2,
   "metadata": {},
   "outputs": [],
   "source": [
    "random_state = 1"
   ]
  },
  {
   "cell_type": "markdown",
   "metadata": {},
   "source": [
    "# Example 1: SVM for Classification"
   ]
  },
  {
   "cell_type": "code",
   "execution_count": 3,
   "metadata": {
    "ExecuteTime": {
     "end_time": "2020-08-23T06:02:28.118832Z",
     "start_time": "2020-08-23T06:02:23.417844Z"
    },
    "scrolled": true
   },
   "outputs": [
    {
     "name": "stderr",
     "output_type": "stream",
     "text": [
      "/home/r7user1/anaconda2_local/envs/tf2/lib/python3.6/site-packages/sklearn/utils/validation.py:71: FutureWarning: Pass greater_is_better=True as keyword args. From version 0.25 passing these as positional arguments will result in an error\n",
      "  FutureWarning)\n"
     ]
    }
   ],
   "source": [
    "sx = MinMaxScaler()\n",
    "dt = datasets.fetch_openml(data_id=37)\n",
    "x = sx.fit_transform(dt.data)\n",
    "y = dt.target\n",
    "\n",
    "ParaSpace = {'C':{'Type': 'continuous', 'Range': [-6, 16], 'Wrapper': np.exp2}, \n",
    "             'gamma': {'Type': 'continuous', 'Range': [-16, 6], 'Wrapper': np.exp2}}\n",
    "\n",
    "estimator = svm.SVC()\n",
    "score_metric = make_scorer(accuracy_score, True)\n",
    "cv = KFold(n_splits=5, random_state=random_state, shuffle=True)"
   ]
  },
  {
   "cell_type": "code",
   "execution_count": 4,
   "metadata": {
    "ExecuteTime": {
     "end_time": "2020-08-23T06:08:19.229717Z",
     "start_time": "2020-08-23T06:02:28.145787Z"
    }
   },
   "outputs": [
    {
     "name": "stdout",
     "output_type": "stream",
     "text": [
      "Stage 1 completed (15/100) with best score: 0.77476.\n",
      "Stage 2 completed (27/100) with best score: 0.77735.\n",
      "Stage 3 completed (40/100) with best score: 0.77735.\n",
      "Stage 4 completed (51/100) with best score: 0.77736.\n",
      "Stage 5 completed (62/100) with best score: 0.78256.\n",
      "Stage 6 completed (74/100) with best score: 0.78256.\n",
      "Stage 7 completed (85/100) with best score: 0.78256.\n",
      "Stage 8 completed (97/100) with best score: 0.78386.\n",
      "Maximum number of runs reached, stop!\n",
      "SeqUD completed in 6.84 seconds.\n",
      "The best score is: 0.78386.\n",
      "The best configurations are:\n",
      "C                   : 1.66728\n",
      "gamma               : 0.20856\n"
     ]
    },
    {
     "data": {
      "application/vnd.jupyter.widget-view+json": {
       "model_id": "54abc54feefb4e97a2aa24ede7bf8bc1",
       "version_major": 2,
       "version_minor": 0
      },
      "text/plain": [
       "HBox(children=(IntProgress(value=0), HTML(value='')))"
      ]
     },
     "metadata": {},
     "output_type": "display_data"
    },
    {
     "name": "stdout",
     "output_type": "stream",
     "text": [
      "TPE completed in 12.29 seconds.\n",
      "The best score is: 0.77736.\n",
      "The best configurations are:\n",
      "C                   : 42.46312\n",
      "gamma               : 0.01402\n",
      "\n"
     ]
    },
    {
     "data": {
      "application/vnd.jupyter.widget-view+json": {
       "model_id": "675412b02d224756b3b865cea5b16f47",
       "version_major": 2,
       "version_minor": 0
      },
      "text/plain": [
       "HBox(children=(IntProgress(value=0), HTML(value='')))"
      ]
     },
     "metadata": {},
     "output_type": "display_data"
    },
    {
     "name": "stdout",
     "output_type": "stream",
     "text": [
      "SMAC completed in 55.23 seconds.\n",
      "The best score is: 0.77735.\n",
      "The best configurations are:\n",
      "C                   : 81.0382\n",
      "gamma               : 0.00336\n",
      "\n"
     ]
    },
    {
     "data": {
      "application/vnd.jupyter.widget-view+json": {
       "model_id": "d7cc1409010644f9bf28dd61f118fd36",
       "version_major": 2,
       "version_minor": 0
      },
      "text/plain": [
       "HBox(children=(IntProgress(value=0), HTML(value='')))"
      ]
     },
     "metadata": {},
     "output_type": "display_data"
    },
    {
     "name": "stdout",
     "output_type": "stream",
     "text": [
      "GPEI completed in 272.61 seconds.\n",
      "The best score is: 0.77993.\n",
      "The best configurations are:\n",
      "C                   : 1.30727\n",
      "gamma               : 1.19173\n",
      "\n"
     ]
    }
   ],
   "source": [
    "sequd_clf = SeqUD(ParaSpace, n_runs_per_stage=15, max_runs=100, max_search_iter=50, n_jobs=10, \n",
    "                 estimator=estimator, cv=cv, scoring=score_metric, refit=None, random_state=random_state, verbose=True)\n",
    "sequd_clf.fit(x, y)\n",
    "\n",
    "tpe_clf = TPEOPT(ParaSpace, max_runs=100, estimator=estimator, cv=cv, scoring=score_metric,\n",
    "                 refit=True, random_state=random_state, verbose=True)\n",
    "tpe_clf.fit(x, y)\n",
    "\n",
    "smac_clf = SMACOPT(ParaSpace, max_runs=100, estimator=estimator, cv=cv, scoring=score_metric,\n",
    "                   refit=True, random_state=random_state, verbose=True)\n",
    "smac_clf.fit(x, y)\n",
    "\n",
    "gpei_clf = GPEIOPT(ParaSpace, max_runs=100, estimator=estimator, cv=cv, scoring=score_metric,\n",
    "                   refit=True, random_state=random_state, verbose=True)\n",
    "gpei_clf.fit(x, y)"
   ]
  },
  {
   "cell_type": "markdown",
   "metadata": {},
   "source": [
    "A contour plot based on a thorough grid search"
   ]
  },
  {
   "cell_type": "code",
   "execution_count": null,
   "metadata": {
    "ExecuteTime": {
     "end_time": "2020-08-23T06:12:35.784696Z",
     "start_time": "2020-08-23T06:09:39.014418Z"
    }
   },
   "outputs": [],
   "source": [
    "grid_num = 25\n",
    "xlist = np.linspace(-6, 16, grid_num)\n",
    "ylist = np.linspace(-16, 6, grid_num)\n",
    "X, Y = np.meshgrid(xlist, ylist)\n",
    "Z = np.zeros((grid_num, grid_num))\n",
    "for i, C in enumerate(xlist):\n",
    "    for j, gamma in enumerate(ylist):\n",
    "        estimator = svm.SVC(C=2 ** C, gamma=2 ** gamma)\n",
    "        out = cross_val_score(estimator, x, y, cv=cv, scoring=score_metric)\n",
    "        Z[j,i] = np.mean(out)"
   ]
  },
  {
   "cell_type": "code",
   "execution_count": null,
   "metadata": {
    "ExecuteTime": {
     "end_time": "2020-08-23T06:14:34.752763Z",
     "start_time": "2020-08-23T06:14:33.337780Z"
    }
   },
   "outputs": [
    {
     "data": {
      "image/png": "[encoded data removed]",
      "text/plain": [
       "<Figure size 1152x864 with 8 Axes>"
      ]
     },
     "metadata": {
      "needs_background": "light"
     },
     "output_type": "display_data"
    }
   ],
   "source": [
    "def plot_trajectory(Z, clf, title):\n",
    "    cp = plt.contourf(X, Y, Z)\n",
    "    plt.colorbar(cp)\n",
    "    plt.xlabel('Log2_C')\n",
    "    plt.ylabel('Log2_gamma')\n",
    "    plt.scatter(np.log2(clf.logs.loc[:, ['C']]), \n",
    "                np.log2(clf.logs.loc[:, ['gamma']]), color=\"red\")\n",
    "    plt.title(title)\n",
    "    \n",
    "plt.figure(figsize=(16, 12))\n",
    "plt.subplot(2, 2, 1)\n",
    "plot_trajectory(Z, sequd_clf, \"SeqUD\")\n",
    "\n",
    "plt.subplot(2, 2, 2)\n",
    "plot_trajectory(Z, tpe_clf, \"TPE\")\n",
    "\n",
    "plt.subplot(2, 2, 3)\n",
    "plot_trajectory(Z, smac_clf, \"SMAC\")\n",
    "\n",
    "plt.subplot(2, 2, 4)\n",
    "plot_trajectory(Z, gpei_clf, \"GPEI\")"
   ]
  },
  {
   "cell_type": "code",
   "execution_count": null,
   "metadata": {
    "ExecuteTime": {
     "end_time": "2020-08-23T06:15:03.255181Z",
     "start_time": "2020-08-23T06:15:02.942034Z"
    }
   },
   "outputs": [
    {
     "data": {
      "image/png": "[encoded data removed]",
      "text/plain": [
       "<Figure size 432x288 with 1 Axes>"
      ]
     },
     "metadata": {
      "needs_background": "light"
     },
     "output_type": "display_data"
    }
   ],
   "source": [
    "plt.plot(gpei_clf.logs[\"score\"].cummax()) \n",
    "plt.plot(smac_clf.logs[\"score\"].cummax()) \n",
    "plt.plot(tpe_clf.logs[\"score\"].cummax())\n",
    "plt.plot(sequd_clf.logs[\"score\"].cummax()) \n",
    "plt.legend(['GPEI', 'SMAC', 'TPE', 'SeqUD'])\n",
    "plt.show()"
   ]
  },
  {
   "cell_type": "markdown",
   "metadata": {},
   "source": [
    "# Example :Xgboost for Regression"
   ]
  },
  {
   "cell_type": "code",
   "execution_count": 17,
   "metadata": {
    "ExecuteTime": {
     "end_time": "2020-08-23T05:56:51.329248Z",
     "start_time": "2020-08-23T05:56:51.151551Z"
    },
    "scrolled": true
   },
   "outputs": [],
   "source": [
    "dt = datasets.load_diabetes()\n",
    "sx = MinMaxScaler()\n",
    "sy = MinMaxScaler()\n",
    "x = sx.fit_transform(dt.data)\n",
    "y = sy.fit_transform(dt.target.reshape([-1, 1]))\n",
    "\n",
    "ParaSpace = {'booster':          {'Type': 'categorical', 'Mapping': ['gbtree', 'gblinear']},\n",
    "             'max_depth':        {'Type': 'integer',     'Mapping': np.linspace(1, 8, 8)}, \n",
    "             'n_estimators':     {'Type': 'integer',     'Mapping': np.linspace(100, 500, 401)},\n",
    "             'colsample_bytree': {'Type': 'continuous',  'Range': [0.5, 1],  'Wrapper': lambda x:x},\n",
    "             'learning_rate':    {'Type': 'continuous',  'Range': [-5, 0], 'Wrapper': lambda x: 10**x},\n",
    "             'gamma':            {'Type': 'continuous',  'Range': [-5, 0], 'Wrapper': lambda x: 10**x},\n",
    "             'reg_lambda':       {'Type': 'continuous',  'Range': [-5, 0], 'Wrapper': lambda x: 10**x},\n",
    "             'reg_alpha':        {'Type': 'continuous',  'Range': [-5, 0], 'Wrapper': lambda x: 10**x}}\n",
    "estimator = xgb.XGBRegressor(verbosity=0, silent=True)\n",
    "def rmse(label, pred, scaler):\n",
    "    pred = scaler.inverse_transform(pred.reshape([-1, 1]))\n",
    "    label = scaler.inverse_transform(label.reshape([-1, 1]))\n",
    "    return np.sqrt(np.mean((pred - label)**2))\n",
    "score_metric = make_scorer(rmse, greater_is_better=False, scaler=sy)\n",
    "cv = KFold(n_splits=5, random_state=random_state, shuffle=True)"
   ]
  },
  {
   "cell_type": "code",
   "execution_count": 18,
   "metadata": {
    "ExecuteTime": {
     "end_time": "2020-08-23T05:59:36.836041Z",
     "start_time": "2020-08-23T05:56:52.569718Z"
    }
   },
   "outputs": [
    {
     "name": "stdout",
     "output_type": "stream",
     "text": [
      "Stage 1 completed (25/100) with best score: -54.69952.\n",
      "Stage 2 completed (49/100) with best score: -54.69952.\n",
      "Stage 3 completed (73/100) with best score: -54.51887.\n",
      "Stage 4 completed (97/100) with best score: -54.51887.\n",
      "Maximum number of runs reached, stop!\n",
      "SeqUD completed in 10.59 seconds.\n",
      "The best score is: -54.51887.\n",
      "The best configurations are:\n",
      "booster             : gblinear\n",
      "max_depth           : 2\n",
      "n_estimators        : 236\n",
      "colsample_bytree    : 0.53\n",
      "learning_rate       : 0.89125\n",
      "gamma               : 0.00562\n",
      "reg_lambda          : 0.00178\n",
      "reg_alpha           : 0.00016\n"
     ]
    },
    {
     "data": {
      "application/vnd.jupyter.widget-view+json": {
       "model_id": "1bdc0ea91525433c8f8f2a9d3a586da1",
       "version_major": 2,
       "version_minor": 0
      },
      "text/plain": [
       "HBox(children=(IntProgress(value=0), HTML(value='')))"
      ]
     },
     "metadata": {},
     "output_type": "display_data"
    },
    {
     "name": "stderr",
     "output_type": "stream",
     "text": [
      "/home/r7user1/anaconda2_local/envs/tf2/lib/python3.6/site-packages/sklearn/preprocessing/_data.py:433: RuntimeWarning: overflow encountered in true_divide\n",
      "  X /= self.scale_\n",
      "\n"
     ]
    },
    {
     "name": "stdout",
     "output_type": "stream",
     "text": [
      "TPE completed in 61.29 seconds.\n",
      "The best score is: -54.49038.\n",
      "The best configurations are:\n",
      "booster             : gblinear\n",
      "max_depth           : 5\n",
      "n_estimators        : 310\n",
      "colsample_bytree    : 0.80645\n",
      "learning_rate       : 0.94119\n",
      "gamma               : 0.00118\n",
      "reg_lambda          : 0.0004\n",
      "reg_alpha           : 0.00015\n",
      "\n"
     ]
    },
    {
     "data": {
      "application/vnd.jupyter.widget-view+json": {
       "model_id": "4f99c215a4be49729bdc34b75f2ba88a",
       "version_major": 2,
       "version_minor": 0
      },
      "text/plain": [
       "HBox(children=(IntProgress(value=0), HTML(value='')))"
      ]
     },
     "metadata": {},
     "output_type": "display_data"
    },
    {
     "name": "stdout",
     "output_type": "stream",
     "text": [
      "SMAC completed in 253.95 seconds.\n",
      "The best score is: -55.42593.\n",
      "The best configurations are:\n",
      "booster             : gblinear\n",
      "max_depth           : 8\n",
      "n_estimators        : 146\n",
      "colsample_bytree    : 0.92326\n",
      "learning_rate       : 0.876\n",
      "gamma               : 0.00174\n",
      "reg_lambda          : 0.00021\n",
      "reg_alpha           : 1e-05\n",
      "\n"
     ]
    },
    {
     "data": {
      "application/vnd.jupyter.widget-view+json": {
       "model_id": "3f179b1745f64ec3bb8c5e2cffc9f81e",
       "version_major": 2,
       "version_minor": 0
      },
      "text/plain": [
       "HBox(children=(IntProgress(value=0), HTML(value='')))"
      ]
     },
     "metadata": {},
     "output_type": "display_data"
    },
    {
     "name": "stdout",
     "output_type": "stream",
     "text": [
      "GPEI completed in 465.42 seconds.\n",
      "The best score is: -55.75378.\n",
      "The best configurations are:\n",
      "booster             : gbtree\n",
      "max_depth           : 2\n",
      "n_estimators        : 500\n",
      "colsample_bytree    : 0.5\n",
      "learning_rate       : 0.07354\n",
      "gamma               : 0.00049\n",
      "reg_lambda          : 0.00073\n",
      "reg_alpha           : 1.0\n",
      "\n"
     ]
    }
   ],
   "source": [
    "sequd_clf = SeqUD(ParaSpace, n_runs_per_stage=25, max_runs=100, max_search_iter=50, n_jobs=10, \n",
    "                 estimator=estimator, cv=cv, refit=True, scoring=score_metric, random_state=random_state, verbose=True)\n",
    "sequd_clf.fit(x, y)\n",
    "\n",
    "tpe_clf = TPEOPT(ParaSpace, max_runs=100, estimator=estimator, cv=cv, scoring=score_metric,\n",
    "                 refit=True, random_state=random_state, verbose=True)\n",
    "tpe_clf.fit(x, y)\n",
    "\n",
    "smac_clf = SMACOPT(ParaSpace, max_runs=100, estimator=estimator, cv=cv, scoring=score_metric,\n",
    "                   refit=True, random_state=random_state, verbose=True)\n",
    "smac_clf.fit(x, y)\n",
    "\n",
    "gpei_clf = GPEIOPT(ParaSpace, max_runs=100, estimator=estimator, cv=cv, scoring=score_metric,\n",
    "                   refit=True, random_state=random_state, verbose=True)\n",
    "gpei_clf.fit(x, y)"
   ]
  },
  {
   "cell_type": "code",
   "execution_count": 20,
   "metadata": {
    "ExecuteTime": {
     "end_time": "2020-08-23T05:41:16.325311Z",
     "start_time": "2020-08-23T05:38:38.903Z"
    }
   },
   "outputs": [
    {
     "data": {
      "image/png": "[encoded data removed]",
      "text/plain": [
       "<Figure size 432x288 with 1 Axes>"
      ]
     },
     "metadata": {
      "needs_background": "light"
     },
     "output_type": "display_data"
    }
   ],
   "source": [
    "plt.plot(gpei_clf.logs[\"score\"].cummax()) \n",
    "plt.plot(smac_clf.logs[\"score\"].cummax()) \n",
    "plt.plot(tpe_clf.logs[\"score\"].cummax())\n",
    "plt.plot(sequd_clf.logs[\"score\"].cummax()) \n",
    "plt.legend(['GPEI', 'SMAC', 'TPE', 'SeqUD'])\n",
    "plt.show()"
   ]
  },
  {
   "cell_type": "markdown",
   "metadata": {},
   "source": [
    " # Example 3: Kmeans for Unsupervised Clustering  "
   ]
  },
  {
   "cell_type": "code",
   "execution_count": 25,
   "metadata": {
    "ExecuteTime": {
     "start_time": "2020-08-23T06:47:54.856Z"
    },
    "scrolled": true
   },
   "outputs": [],
   "source": [
    "sx = MinMaxScaler()\n",
    "dt = datasets.load_iris()\n",
    "x = sx.fit_transform(dt.data)\n",
    "y = dt.target.reshape([-1, 1])\n",
    "\n",
    "random_state = 0\n",
    "ParaSpace = {'n_clusters':  {'Type': 'integer',    'Mapping': np.linspace(2, 9, 8)}, \n",
    "             'tol':         {'Type': 'continuous', 'Range': [-6, -1], 'Wrapper': lambda x: 10**x}}\n",
    "estimator = KMeans()\n",
    "cv = KFold(n_splits=5, random_state=random_state, shuffle=True)"
   ]
  },
  {
   "cell_type": "code",
   "execution_count": 26,
   "metadata": {
    "ExecuteTime": {
     "end_time": "2020-08-23T06:33:04.817874Z",
     "start_time": "2020-08-23T06:26:35.447805Z"
    }
   },
   "outputs": [
    {
     "name": "stdout",
     "output_type": "stream",
     "text": [
      "Stage 1 completed (15/100) with best score: -0.68628.\n",
      "Stage 2 completed (26/100) with best score: -0.68511.\n",
      "Stage 3 completed (38/100) with best score: -0.68511.\n",
      "Stage 4 completed (49/100) with best score: -0.68511.\n",
      "Stage 5 completed (61/100) with best score: -0.68511.\n",
      "Stage 6 completed (74/100) with best score: -0.68511.\n",
      "Stage 7 completed (87/100) with best score: -0.68511.\n",
      "Stage 8 completed (98/100) with best score: -0.68511.\n",
      "Maximum number of runs reached, stop!\n",
      "SeqUD completed in 8.26 seconds.\n",
      "The best score is: -0.68511.\n",
      "The best configurations are:\n",
      "n_clusters          : 9\n",
      "tol                 : 0.00464\n"
     ]
    },
    {
     "data": {
      "application/vnd.jupyter.widget-view+json": {
       "model_id": "469ea6b230354f49a8f976693cb55fbb",
       "version_major": 2,
       "version_minor": 0
      },
      "text/plain": [
       "HBox(children=(IntProgress(value=0), HTML(value='')))"
      ]
     },
     "metadata": {},
     "output_type": "display_data"
    },
    {
     "name": "stdout",
     "output_type": "stream",
     "text": [
      "TPE completed in 22.12 seconds.\n",
      "The best score is: -0.68363.\n",
      "The best configurations are:\n",
      "n_clusters          : 9\n",
      "tol                 : 0.05947\n"
     ]
    },
    {
     "data": {
      "application/vnd.jupyter.widget-view+json": {
       "model_id": "73ab7b7a63144c8c9615bc32cd894325",
       "version_major": 2,
       "version_minor": 0
      },
      "text/plain": [
       "HBox(children=(IntProgress(value=0), HTML(value='')))"
      ]
     },
     "metadata": {},
     "output_type": "display_data"
    },
    {
     "name": "stdout",
     "output_type": "stream",
     "text": [
      "SMAC completed in 42.25 seconds.\n",
      "The best score is: -0.68628.\n",
      "The best configurations are:\n",
      "n_clusters          : 9\n",
      "tol                 : 0.00011\n"
     ]
    },
    {
     "data": {
      "application/vnd.jupyter.widget-view+json": {
       "model_id": "876c9b7ddb414747b8939a8f1791a6d0",
       "version_major": 2,
       "version_minor": 0
      },
      "text/plain": [
       "HBox(children=(IntProgress(value=0), HTML(value='')))"
      ]
     },
     "metadata": {},
     "output_type": "display_data"
    },
    {
     "name": "stdout",
     "output_type": "stream",
     "text": [
      "GPEI completed in 307.69 seconds.\n",
      "The best score is: -0.68511.\n",
      "The best configurations are:\n",
      "n_clusters          : 9\n",
      "tol                 : 0.00535\n"
     ]
    }
   ],
   "source": [
    "sequd_clf = SeqUD(ParaSpace, n_runs_per_stage=15, max_runs=100, max_search_iter=50, n_jobs=10, \n",
    "                 estimator=estimator, cv=cv, refit=True, random_state=random_state, verbose=True)\n",
    "sequd_clf.fit(x)\n",
    "\n",
    "tpe_clf = TPEOPT(ParaSpace, max_runs=100, estimator=estimator, cv=cv,\n",
    "                 refit=True, random_state=random_state, verbose=True)\n",
    "tpe_clf.fit(x)\n",
    "\n",
    "smac_clf = SMACOPT(ParaSpace,max_runs=100, estimator=estimator, cv=cv,\n",
    "                   refit=True, random_state=random_state, verbose=True)\n",
    "smac_clf.fit(x)\n",
    "\n",
    "gpei_clf = GPEIOPT(ParaSpace, max_runs=100, estimator=estimator, cv=cv,\n",
    "                   refit=True, random_state=random_state, verbose=True)\n",
    "gpei_clf.fit(x)"
   ]
  },
  {
   "cell_type": "code",
   "execution_count": 28,
   "metadata": {
    "ExecuteTime": {
     "end_time": "2020-08-23T06:38:31.398884Z",
     "start_time": "2020-08-23T06:38:31.117371Z"
    }
   },
   "outputs": [
    {
     "data": {
      "image/png": "[encoded data removed]",
      "text/plain": [
       "<Figure size 432x288 with 1 Axes>"
      ]
     },
     "metadata": {
      "needs_background": "light"
     },
     "output_type": "display_data"
    }
   ],
   "source": [
    "plt.plot(gpei_clf.logs[\"score\"].cummax()) \n",
    "plt.plot(smac_clf.logs[\"score\"].cummax()) \n",
    "plt.plot(tpe_clf.logs[\"score\"].cummax())\n",
    "plt.plot(sequd_clf.logs[\"score\"].cummax()) \n",
    "plt.legend(['GPEI', 'SMAC', 'TPE', 'SeqUD'])\n",
    "plt.ylim(-0.7, -0.67)\n",
    "plt.show()"
   ]
  }
 ],
 "metadata": {
  "kernelspec": {
   "display_name": "Python (tf2)",
   "language": "python",
   "name": "tf2"
  },
  "language_info": {
   "codemirror_mode": {
    "name": "ipython",
    "version": 3
   },
   "file_extension": ".py",
   "mimetype": "text/x-python",
   "name": "python",
   "nbconvert_exporter": "python",
   "pygments_lexer": "ipython3",
   "version": "3.6.8"
  },
  "latex_envs": {
   "LaTeX_envs_menu_present": true,
   "autoclose": false,
   "autocomplete": true,
   "bibliofile": "biblio.bib",
   "cite_by": "apalike",
   "current_citInitial": 1,
   "eqLabelWithNumbers": true,
   "eqNumInitial": 1,
   "hotkeys": {
    "equation": "Ctrl-E",
    "itemize": "Ctrl-I"
   },
   "labels_anchors": false,
   "latex_user_defs": false,
   "report_style_numbering": false,
   "user_envs_cfg": false
  },
  "varInspector": {
   "cols": {
    "lenName": 16,
    "lenType": 16,
    "lenVar": 40
   },
   "kernels_config": {
    "python": {
     "delete_cmd_postfix": "",
     "delete_cmd_prefix": "del ",
     "library": "var_list.py",
     "varRefreshCmd": "print(var_dic_list())"
    },
    "r": {
     "delete_cmd_postfix": ") ",
     "delete_cmd_prefix": "rm(",
     "library": "var_list.r",
     "varRefreshCmd": "cat(var_dic_list()) "
    }
   },
   "types_to_exclude": [
    "module",
    "function",
    "builtin_function_or_method",
    "instance",
    "_Feature"
   ],
   "window_display": false
  }
 },
 "nbformat": 4,
 "nbformat_minor": 2
}
